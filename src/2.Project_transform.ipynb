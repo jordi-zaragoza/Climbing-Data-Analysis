{
 "cells": [
  {
   "cell_type": "code",
   "execution_count": 1,
   "id": "sound-painting",
   "metadata": {},
   "outputs": [],
   "source": [
    "import pandas as pd \n",
    "import numpy as np\n",
    "import transformations as tr\n",
    "import pickle\n",
    "import clean_jor"
   ]
  },
  {
   "cell_type": "markdown",
   "id": "convertible-warner",
   "metadata": {},
   "source": [
    "# 2. Transformations"
   ]
  },
  {
   "cell_type": "code",
   "execution_count": 2,
   "id": "electronic-pension",
   "metadata": {},
   "outputs": [],
   "source": [
    "climber = pd.read_csv('../data/climber_all_clean.csv',index_col=0)"
   ]
  },
  {
   "cell_type": "code",
   "execution_count": 3,
   "id": "given-portrait",
   "metadata": {},
   "outputs": [
    {
     "data": {
      "text/html": [
       "<div>\n",
       "<style scoped>\n",
       "    .dataframe tbody tr th:only-of-type {\n",
       "        vertical-align: middle;\n",
       "    }\n",
       "\n",
       "    .dataframe tbody tr th {\n",
       "        vertical-align: top;\n",
       "    }\n",
       "\n",
       "    .dataframe thead th {\n",
       "        text-align: right;\n",
       "    }\n",
       "</style>\n",
       "<table border=\"1\" class=\"dataframe\">\n",
       "  <thead>\n",
       "    <tr style=\"text-align: right;\">\n",
       "      <th></th>\n",
       "      <th>country</th>\n",
       "      <th>sex</th>\n",
       "      <th>height</th>\n",
       "      <th>weight</th>\n",
       "      <th>age</th>\n",
       "      <th>years_cl</th>\n",
       "      <th>grades_max</th>\n",
       "      <th>grades_mean</th>\n",
       "      <th>year_last</th>\n",
       "      <th>max_fra</th>\n",
       "    </tr>\n",
       "  </thead>\n",
       "  <tbody>\n",
       "    <tr>\n",
       "      <th>0</th>\n",
       "      <td>SWE</td>\n",
       "      <td>0</td>\n",
       "      <td>177</td>\n",
       "      <td>73</td>\n",
       "      <td>25.0</td>\n",
       "      <td>5</td>\n",
       "      <td>62</td>\n",
       "      <td>46.750000</td>\n",
       "      <td>2001</td>\n",
       "      <td>8a+/8b</td>\n",
       "    </tr>\n",
       "    <tr>\n",
       "      <th>1</th>\n",
       "      <td>SWE</td>\n",
       "      <td>0</td>\n",
       "      <td>180</td>\n",
       "      <td>78</td>\n",
       "      <td>27.0</td>\n",
       "      <td>5</td>\n",
       "      <td>59</td>\n",
       "      <td>52.833333</td>\n",
       "      <td>2000</td>\n",
       "      <td>8a</td>\n",
       "    </tr>\n",
       "    <tr>\n",
       "      <th>2</th>\n",
       "      <td>NOR</td>\n",
       "      <td>0</td>\n",
       "      <td>177</td>\n",
       "      <td>68</td>\n",
       "      <td>37.0</td>\n",
       "      <td>14</td>\n",
       "      <td>53</td>\n",
       "      <td>51.400000</td>\n",
       "      <td>2010</td>\n",
       "      <td>7b+</td>\n",
       "    </tr>\n",
       "  </tbody>\n",
       "</table>\n",
       "</div>"
      ],
      "text/plain": [
       "  country  sex  height  weight   age  years_cl  grades_max  grades_mean  \\\n",
       "0     SWE    0     177      73  25.0         5          62    46.750000   \n",
       "1     SWE    0     180      78  27.0         5          59    52.833333   \n",
       "2     NOR    0     177      68  37.0        14          53    51.400000   \n",
       "\n",
       "   year_last max_fra  \n",
       "0       2001  8a+/8b  \n",
       "1       2000      8a  \n",
       "2       2010     7b+  "
      ]
     },
     "execution_count": 3,
     "metadata": {},
     "output_type": "execute_result"
    }
   ],
   "source": [
    "climber.head(3)"
   ]
  },
  {
   "cell_type": "markdown",
   "id": "objective-dialogue",
   "metadata": {},
   "source": [
    "<b> X-y split"
   ]
  },
  {
   "cell_type": "code",
   "execution_count": 4,
   "id": "independent-vegetable",
   "metadata": {},
   "outputs": [],
   "source": [
    "X,y = tr.xy_split(climber)"
   ]
  },
  {
   "cell_type": "markdown",
   "id": "dirty-comparative",
   "metadata": {},
   "source": [
    "<b> Train-test split"
   ]
  },
  {
   "cell_type": "code",
   "execution_count": 5,
   "id": "specified-calculation",
   "metadata": {},
   "outputs": [],
   "source": [
    "X_train, X_test, y_train, y_test = tr.tr_ts_split(X,y)"
   ]
  },
  {
   "cell_type": "markdown",
   "id": "greater-universe",
   "metadata": {},
   "source": [
    "<b> Cat-Num split"
   ]
  },
  {
   "cell_type": "code",
   "execution_count": 6,
   "id": "classical-custom",
   "metadata": {},
   "outputs": [],
   "source": [
    "numerical_train, categorical_train= tr.cat_num_split(X_train)\n",
    "numerical_test, categorical_test= tr.cat_num_split(X_test)"
   ]
  },
  {
   "cell_type": "markdown",
   "id": "outer-massachusetts",
   "metadata": {},
   "source": [
    "<b> Categorical transformations"
   ]
  },
  {
   "cell_type": "code",
   "execution_count": 7,
   "id": "speaking-electronics",
   "metadata": {},
   "outputs": [],
   "source": [
    "cat_enc = tr.cat_get_enc(categorical_train,'country')\n",
    "categorical_train_enc = tr.cat_transform_hot(categorical_train,cat_enc,'country')\n",
    "categorical_test_enc = tr.cat_transform_hot(categorical_test,cat_enc,'country')"
   ]
  },
  {
   "cell_type": "code",
   "execution_count": 8,
   "id": "electric-spray",
   "metadata": {},
   "outputs": [
    {
     "data": {
      "text/html": [
       "<div>\n",
       "<style scoped>\n",
       "    .dataframe tbody tr th:only-of-type {\n",
       "        vertical-align: middle;\n",
       "    }\n",
       "\n",
       "    .dataframe tbody tr th {\n",
       "        vertical-align: top;\n",
       "    }\n",
       "\n",
       "    .dataframe thead th {\n",
       "        text-align: right;\n",
       "    }\n",
       "</style>\n",
       "<table border=\"1\" class=\"dataframe\">\n",
       "  <thead>\n",
       "    <tr style=\"text-align: right;\">\n",
       "      <th></th>\n",
       "      <th>AUS</th>\n",
       "      <th>AUT</th>\n",
       "      <th>BEL</th>\n",
       "      <th>BRA</th>\n",
       "      <th>CAN</th>\n",
       "      <th>CHE</th>\n",
       "      <th>CZE</th>\n",
       "      <th>DEU</th>\n",
       "      <th>DNK</th>\n",
       "      <th>ESP</th>\n",
       "      <th>...</th>\n",
       "      <th>NLD</th>\n",
       "      <th>NOR</th>\n",
       "      <th>POL</th>\n",
       "      <th>PRT</th>\n",
       "      <th>RUS</th>\n",
       "      <th>SVN</th>\n",
       "      <th>SWE</th>\n",
       "      <th>USA</th>\n",
       "      <th>ZAF</th>\n",
       "      <th>other</th>\n",
       "    </tr>\n",
       "  </thead>\n",
       "  <tbody>\n",
       "    <tr>\n",
       "      <th>0</th>\n",
       "      <td>0.0</td>\n",
       "      <td>0.0</td>\n",
       "      <td>0.0</td>\n",
       "      <td>0.0</td>\n",
       "      <td>0.0</td>\n",
       "      <td>0.0</td>\n",
       "      <td>0.0</td>\n",
       "      <td>0.0</td>\n",
       "      <td>0.0</td>\n",
       "      <td>0.0</td>\n",
       "      <td>...</td>\n",
       "      <td>0.0</td>\n",
       "      <td>0.0</td>\n",
       "      <td>0.0</td>\n",
       "      <td>0.0</td>\n",
       "      <td>0.0</td>\n",
       "      <td>0.0</td>\n",
       "      <td>1.0</td>\n",
       "      <td>0.0</td>\n",
       "      <td>0.0</td>\n",
       "      <td>0.0</td>\n",
       "    </tr>\n",
       "    <tr>\n",
       "      <th>1</th>\n",
       "      <td>0.0</td>\n",
       "      <td>0.0</td>\n",
       "      <td>0.0</td>\n",
       "      <td>0.0</td>\n",
       "      <td>0.0</td>\n",
       "      <td>0.0</td>\n",
       "      <td>0.0</td>\n",
       "      <td>0.0</td>\n",
       "      <td>0.0</td>\n",
       "      <td>0.0</td>\n",
       "      <td>...</td>\n",
       "      <td>0.0</td>\n",
       "      <td>0.0</td>\n",
       "      <td>0.0</td>\n",
       "      <td>0.0</td>\n",
       "      <td>0.0</td>\n",
       "      <td>0.0</td>\n",
       "      <td>0.0</td>\n",
       "      <td>1.0</td>\n",
       "      <td>0.0</td>\n",
       "      <td>0.0</td>\n",
       "    </tr>\n",
       "    <tr>\n",
       "      <th>2</th>\n",
       "      <td>0.0</td>\n",
       "      <td>0.0</td>\n",
       "      <td>0.0</td>\n",
       "      <td>0.0</td>\n",
       "      <td>0.0</td>\n",
       "      <td>0.0</td>\n",
       "      <td>0.0</td>\n",
       "      <td>0.0</td>\n",
       "      <td>0.0</td>\n",
       "      <td>1.0</td>\n",
       "      <td>...</td>\n",
       "      <td>0.0</td>\n",
       "      <td>0.0</td>\n",
       "      <td>0.0</td>\n",
       "      <td>0.0</td>\n",
       "      <td>0.0</td>\n",
       "      <td>0.0</td>\n",
       "      <td>0.0</td>\n",
       "      <td>0.0</td>\n",
       "      <td>0.0</td>\n",
       "      <td>0.0</td>\n",
       "    </tr>\n",
       "  </tbody>\n",
       "</table>\n",
       "<p>3 rows × 26 columns</p>\n",
       "</div>"
      ],
      "text/plain": [
       "   AUS  AUT  BEL  BRA  CAN  CHE  CZE  DEU  DNK  ESP  ...  NLD  NOR  POL  PRT  \\\n",
       "0  0.0  0.0  0.0  0.0  0.0  0.0  0.0  0.0  0.0  0.0  ...  0.0  0.0  0.0  0.0   \n",
       "1  0.0  0.0  0.0  0.0  0.0  0.0  0.0  0.0  0.0  0.0  ...  0.0  0.0  0.0  0.0   \n",
       "2  0.0  0.0  0.0  0.0  0.0  0.0  0.0  0.0  0.0  1.0  ...  0.0  0.0  0.0  0.0   \n",
       "\n",
       "   RUS  SVN  SWE  USA  ZAF  other  \n",
       "0  0.0  0.0  1.0  0.0  0.0    0.0  \n",
       "1  0.0  0.0  0.0  1.0  0.0    0.0  \n",
       "2  0.0  0.0  0.0  0.0  0.0    0.0  \n",
       "\n",
       "[3 rows x 26 columns]"
      ]
     },
     "execution_count": 8,
     "metadata": {},
     "output_type": "execute_result"
    }
   ],
   "source": [
    "categorical_train_enc.head(3)"
   ]
  },
  {
   "cell_type": "markdown",
   "id": "hairy-lightning",
   "metadata": {},
   "source": [
    "<b> Concatenate them back"
   ]
  },
  {
   "cell_type": "code",
   "execution_count": 9,
   "id": "union-soundtrack",
   "metadata": {},
   "outputs": [],
   "source": [
    "X_tot_train = pd.concat([numerical_train,categorical_train_enc], axis=1) \n",
    "X_tot_test = pd.concat([numerical_test,categorical_test_enc], axis=1) "
   ]
  },
  {
   "cell_type": "markdown",
   "id": "patient-vertex",
   "metadata": {},
   "source": [
    "<b> Numerical Transformations"
   ]
  },
  {
   "cell_type": "code",
   "execution_count": 10,
   "id": "underlying-coach",
   "metadata": {},
   "outputs": [],
   "source": [
    "num_tr_1 = tr.num_get_tr_power(X_tot_train)\n",
    "X_tot_train_trans = tr.num_transform(X_tot_train, num_tr_1)\n",
    "X_tot_test_trans = tr.num_transform(X_tot_test, num_tr_1)"
   ]
  },
  {
   "cell_type": "code",
   "execution_count": 11,
   "id": "mounted-senate",
   "metadata": {},
   "outputs": [],
   "source": [
    "num_tr_2 = tr.num_get_tr_minmax(X_tot_train)\n",
    "X_tot_train_trans2 = tr.num_transform(X_tot_train_trans, num_tr_2)\n",
    "X_tot_test_trans2 = tr.num_transform(X_tot_test_trans, num_tr_2)"
   ]
  },
  {
   "cell_type": "code",
   "execution_count": 12,
   "id": "sunset-titanium",
   "metadata": {},
   "outputs": [
    {
     "data": {
      "text/html": [
       "<div>\n",
       "<style scoped>\n",
       "    .dataframe tbody tr th:only-of-type {\n",
       "        vertical-align: middle;\n",
       "    }\n",
       "\n",
       "    .dataframe tbody tr th {\n",
       "        vertical-align: top;\n",
       "    }\n",
       "\n",
       "    .dataframe thead th {\n",
       "        text-align: right;\n",
       "    }\n",
       "</style>\n",
       "<table border=\"1\" class=\"dataframe\">\n",
       "  <thead>\n",
       "    <tr style=\"text-align: right;\">\n",
       "      <th></th>\n",
       "      <th>sex</th>\n",
       "      <th>height</th>\n",
       "      <th>weight</th>\n",
       "      <th>age</th>\n",
       "      <th>years_cl</th>\n",
       "      <th>AUS</th>\n",
       "      <th>AUT</th>\n",
       "      <th>BEL</th>\n",
       "      <th>BRA</th>\n",
       "      <th>CAN</th>\n",
       "      <th>...</th>\n",
       "      <th>NLD</th>\n",
       "      <th>NOR</th>\n",
       "      <th>POL</th>\n",
       "      <th>PRT</th>\n",
       "      <th>RUS</th>\n",
       "      <th>SVN</th>\n",
       "      <th>SWE</th>\n",
       "      <th>USA</th>\n",
       "      <th>ZAF</th>\n",
       "      <th>other</th>\n",
       "    </tr>\n",
       "  </thead>\n",
       "  <tbody>\n",
       "    <tr>\n",
       "      <th>0</th>\n",
       "      <td>-0.343238</td>\n",
       "      <td>-3.481824</td>\n",
       "      <td>-0.743802</td>\n",
       "      <td>-0.459692</td>\n",
       "      <td>-0.180052</td>\n",
       "      <td>-0.155445</td>\n",
       "      <td>-0.18155</td>\n",
       "      <td>-0.13971</td>\n",
       "      <td>-0.189908</td>\n",
       "      <td>-0.16497</td>\n",
       "      <td>...</td>\n",
       "      <td>-0.150143</td>\n",
       "      <td>-0.186048</td>\n",
       "      <td>-0.295008</td>\n",
       "      <td>-0.125356</td>\n",
       "      <td>-0.154791</td>\n",
       "      <td>-0.134588</td>\n",
       "      <td>4.110077</td>\n",
       "      <td>-0.348844</td>\n",
       "      <td>-0.146741</td>\n",
       "      <td>-0.317303</td>\n",
       "    </tr>\n",
       "    <tr>\n",
       "      <th>1</th>\n",
       "      <td>-0.343238</td>\n",
       "      <td>-3.509233</td>\n",
       "      <td>-0.775795</td>\n",
       "      <td>-0.459692</td>\n",
       "      <td>-0.126143</td>\n",
       "      <td>-0.155445</td>\n",
       "      <td>-0.18155</td>\n",
       "      <td>-0.13971</td>\n",
       "      <td>-0.189908</td>\n",
       "      <td>-0.16497</td>\n",
       "      <td>...</td>\n",
       "      <td>-0.150143</td>\n",
       "      <td>-0.186048</td>\n",
       "      <td>-0.295008</td>\n",
       "      <td>-0.125356</td>\n",
       "      <td>-0.154791</td>\n",
       "      <td>-0.134588</td>\n",
       "      <td>-0.243304</td>\n",
       "      <td>2.866613</td>\n",
       "      <td>-0.146741</td>\n",
       "      <td>-0.317303</td>\n",
       "    </tr>\n",
       "    <tr>\n",
       "      <th>2</th>\n",
       "      <td>-0.343238</td>\n",
       "      <td>-3.471670</td>\n",
       "      <td>-0.721401</td>\n",
       "      <td>-0.450736</td>\n",
       "      <td>-0.117259</td>\n",
       "      <td>-0.155445</td>\n",
       "      <td>-0.18155</td>\n",
       "      <td>-0.13971</td>\n",
       "      <td>-0.189908</td>\n",
       "      <td>-0.16497</td>\n",
       "      <td>...</td>\n",
       "      <td>-0.150143</td>\n",
       "      <td>-0.186048</td>\n",
       "      <td>-0.295008</td>\n",
       "      <td>-0.125356</td>\n",
       "      <td>-0.154791</td>\n",
       "      <td>-0.134588</td>\n",
       "      <td>-0.243304</td>\n",
       "      <td>-0.348844</td>\n",
       "      <td>-0.146741</td>\n",
       "      <td>-0.317303</td>\n",
       "    </tr>\n",
       "  </tbody>\n",
       "</table>\n",
       "<p>3 rows × 31 columns</p>\n",
       "</div>"
      ],
      "text/plain": [
       "        sex    height    weight       age  years_cl       AUS      AUT  \\\n",
       "0 -0.343238 -3.481824 -0.743802 -0.459692 -0.180052 -0.155445 -0.18155   \n",
       "1 -0.343238 -3.509233 -0.775795 -0.459692 -0.126143 -0.155445 -0.18155   \n",
       "2 -0.343238 -3.471670 -0.721401 -0.450736 -0.117259 -0.155445 -0.18155   \n",
       "\n",
       "       BEL       BRA      CAN  ...       NLD       NOR       POL       PRT  \\\n",
       "0 -0.13971 -0.189908 -0.16497  ... -0.150143 -0.186048 -0.295008 -0.125356   \n",
       "1 -0.13971 -0.189908 -0.16497  ... -0.150143 -0.186048 -0.295008 -0.125356   \n",
       "2 -0.13971 -0.189908 -0.16497  ... -0.150143 -0.186048 -0.295008 -0.125356   \n",
       "\n",
       "        RUS       SVN       SWE       USA       ZAF     other  \n",
       "0 -0.154791 -0.134588  4.110077 -0.348844 -0.146741 -0.317303  \n",
       "1 -0.154791 -0.134588 -0.243304  2.866613 -0.146741 -0.317303  \n",
       "2 -0.154791 -0.134588 -0.243304 -0.348844 -0.146741 -0.317303  \n",
       "\n",
       "[3 rows x 31 columns]"
      ]
     },
     "execution_count": 12,
     "metadata": {},
     "output_type": "execute_result"
    }
   ],
   "source": [
    "X_tot_train_trans2.head(3)"
   ]
  },
  {
   "cell_type": "markdown",
   "id": "valid-potato",
   "metadata": {},
   "source": [
    "## Save dataframes"
   ]
  },
  {
   "cell_type": "code",
   "execution_count": 13,
   "id": "hindu-nancy",
   "metadata": {},
   "outputs": [],
   "source": [
    "X_tot_train_trans2.to_csv('../data/X_train.csv')\n",
    "X_tot_test_trans2.to_csv('../data/X_test.csv')\n",
    "y_train.to_csv('../data/y_train.csv')\n",
    "y_test.to_csv('../data/y_test.csv')"
   ]
  },
  {
   "cell_type": "code",
   "execution_count": 14,
   "id": "apart-innocent",
   "metadata": {},
   "outputs": [],
   "source": [
    "# save transformers to disk\n",
    "filename2 = '../transformer/cat_enc.sav'\n",
    "pickle.dump(cat_enc, open(filename2, 'wb'))\n",
    "filename3 = '../transformer/num_tr1.sav'\n",
    "pickle.dump(num_tr_1, open(filename3, 'wb'))\n",
    "filename4 = '../transformer/num_tr2.sav'\n",
    "pickle.dump(num_tr_2, open(filename4, 'wb'))"
   ]
  }
 ],
 "metadata": {
  "kernelspec": {
   "display_name": "Python 3 (ipykernel)",
   "language": "python",
   "name": "python3"
  },
  "language_info": {
   "codemirror_mode": {
    "name": "ipython",
    "version": 3
   },
   "file_extension": ".py",
   "mimetype": "text/x-python",
   "name": "python",
   "nbconvert_exporter": "python",
   "pygments_lexer": "ipython3",
   "version": "3.9.5"
  }
 },
 "nbformat": 4,
 "nbformat_minor": 5
}

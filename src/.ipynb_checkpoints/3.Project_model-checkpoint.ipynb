{
 "cells": [
  {
   "cell_type": "code",
   "execution_count": 1,
   "id": "musical-salad",
   "metadata": {},
   "outputs": [],
   "source": [
    "import pandas as pd \n",
    "import numpy as np\n",
    "from sklearn.linear_model import LinearRegression\n",
    "from sklearn.neighbors import KNeighborsRegressor\n",
    "from sklearn.neural_network import  MLPRegressor\n",
    "import metrics_jor \n",
    "import climb\n",
    "import pickle\n",
    "import plot_jordi"
   ]
  },
  {
   "cell_type": "markdown",
   "id": "absolute-faculty",
   "metadata": {},
   "source": [
    "# 3. Regression"
   ]
  },
  {
   "cell_type": "code",
   "execution_count": 2,
   "id": "going-jordan",
   "metadata": {},
   "outputs": [],
   "source": [
    "X_train = pd.read_csv('../data/X_train.csv',index_col=0)\n",
    "X_test = pd.read_csv('../data/X_test.csv',index_col=0)\n",
    "y_train = pd.read_csv('../data/y_train.csv',index_col=0)\n",
    "y_test = pd.read_csv('../data/y_test.csv',index_col=0)"
   ]
  },
  {
   "cell_type": "code",
   "execution_count": 3,
   "id": "together-panic",
   "metadata": {},
   "outputs": [
    {
     "data": {
      "text/html": [
       "<div>\n",
       "<style scoped>\n",
       "    .dataframe tbody tr th:only-of-type {\n",
       "        vertical-align: middle;\n",
       "    }\n",
       "\n",
       "    .dataframe tbody tr th {\n",
       "        vertical-align: top;\n",
       "    }\n",
       "\n",
       "    .dataframe thead th {\n",
       "        text-align: right;\n",
       "    }\n",
       "</style>\n",
       "<table border=\"1\" class=\"dataframe\">\n",
       "  <thead>\n",
       "    <tr style=\"text-align: right;\">\n",
       "      <th></th>\n",
       "      <th>sex</th>\n",
       "      <th>height</th>\n",
       "      <th>weight</th>\n",
       "      <th>age</th>\n",
       "      <th>years_cl</th>\n",
       "      <th>AUS</th>\n",
       "      <th>AUT</th>\n",
       "      <th>BEL</th>\n",
       "      <th>BRA</th>\n",
       "      <th>CAN</th>\n",
       "      <th>...</th>\n",
       "      <th>NLD</th>\n",
       "      <th>NOR</th>\n",
       "      <th>POL</th>\n",
       "      <th>PRT</th>\n",
       "      <th>RUS</th>\n",
       "      <th>SVN</th>\n",
       "      <th>SWE</th>\n",
       "      <th>USA</th>\n",
       "      <th>ZAF</th>\n",
       "      <th>other</th>\n",
       "    </tr>\n",
       "  </thead>\n",
       "  <tbody>\n",
       "    <tr>\n",
       "      <th>0</th>\n",
       "      <td>-0.343238</td>\n",
       "      <td>-3.481824</td>\n",
       "      <td>-0.743802</td>\n",
       "      <td>-0.459692</td>\n",
       "      <td>-0.180052</td>\n",
       "      <td>-0.155445</td>\n",
       "      <td>-0.18155</td>\n",
       "      <td>-0.13971</td>\n",
       "      <td>-0.189908</td>\n",
       "      <td>-0.16497</td>\n",
       "      <td>...</td>\n",
       "      <td>-0.150143</td>\n",
       "      <td>-0.186048</td>\n",
       "      <td>-0.295008</td>\n",
       "      <td>-0.125356</td>\n",
       "      <td>-0.154791</td>\n",
       "      <td>-0.134588</td>\n",
       "      <td>4.110077</td>\n",
       "      <td>-0.348844</td>\n",
       "      <td>-0.146741</td>\n",
       "      <td>-0.317303</td>\n",
       "    </tr>\n",
       "    <tr>\n",
       "      <th>1</th>\n",
       "      <td>-0.343238</td>\n",
       "      <td>-3.509233</td>\n",
       "      <td>-0.775795</td>\n",
       "      <td>-0.459692</td>\n",
       "      <td>-0.126143</td>\n",
       "      <td>-0.155445</td>\n",
       "      <td>-0.18155</td>\n",
       "      <td>-0.13971</td>\n",
       "      <td>-0.189908</td>\n",
       "      <td>-0.16497</td>\n",
       "      <td>...</td>\n",
       "      <td>-0.150143</td>\n",
       "      <td>-0.186048</td>\n",
       "      <td>-0.295008</td>\n",
       "      <td>-0.125356</td>\n",
       "      <td>-0.154791</td>\n",
       "      <td>-0.134588</td>\n",
       "      <td>-0.243304</td>\n",
       "      <td>2.866613</td>\n",
       "      <td>-0.146741</td>\n",
       "      <td>-0.317303</td>\n",
       "    </tr>\n",
       "    <tr>\n",
       "      <th>2</th>\n",
       "      <td>-0.343238</td>\n",
       "      <td>-3.471670</td>\n",
       "      <td>-0.721401</td>\n",
       "      <td>-0.450736</td>\n",
       "      <td>-0.117259</td>\n",
       "      <td>-0.155445</td>\n",
       "      <td>-0.18155</td>\n",
       "      <td>-0.13971</td>\n",
       "      <td>-0.189908</td>\n",
       "      <td>-0.16497</td>\n",
       "      <td>...</td>\n",
       "      <td>-0.150143</td>\n",
       "      <td>-0.186048</td>\n",
       "      <td>-0.295008</td>\n",
       "      <td>-0.125356</td>\n",
       "      <td>-0.154791</td>\n",
       "      <td>-0.134588</td>\n",
       "      <td>-0.243304</td>\n",
       "      <td>-0.348844</td>\n",
       "      <td>-0.146741</td>\n",
       "      <td>-0.317303</td>\n",
       "    </tr>\n",
       "    <tr>\n",
       "      <th>3</th>\n",
       "      <td>-0.343238</td>\n",
       "      <td>-3.471670</td>\n",
       "      <td>-0.765360</td>\n",
       "      <td>-0.410255</td>\n",
       "      <td>-0.126143</td>\n",
       "      <td>-0.155445</td>\n",
       "      <td>-0.18155</td>\n",
       "      <td>-0.13971</td>\n",
       "      <td>-0.189908</td>\n",
       "      <td>-0.16497</td>\n",
       "      <td>...</td>\n",
       "      <td>-0.150143</td>\n",
       "      <td>-0.186048</td>\n",
       "      <td>-0.295008</td>\n",
       "      <td>-0.125356</td>\n",
       "      <td>-0.154791</td>\n",
       "      <td>-0.134588</td>\n",
       "      <td>-0.243304</td>\n",
       "      <td>-0.348844</td>\n",
       "      <td>-0.146741</td>\n",
       "      <td>-0.317303</td>\n",
       "    </tr>\n",
       "    <tr>\n",
       "      <th>4</th>\n",
       "      <td>-0.343238</td>\n",
       "      <td>-3.478498</td>\n",
       "      <td>-0.754692</td>\n",
       "      <td>-0.450736</td>\n",
       "      <td>-0.136311</td>\n",
       "      <td>-0.155445</td>\n",
       "      <td>-0.18155</td>\n",
       "      <td>-0.13971</td>\n",
       "      <td>-0.189908</td>\n",
       "      <td>-0.16497</td>\n",
       "      <td>...</td>\n",
       "      <td>-0.150143</td>\n",
       "      <td>-0.186048</td>\n",
       "      <td>-0.295008</td>\n",
       "      <td>-0.125356</td>\n",
       "      <td>-0.154791</td>\n",
       "      <td>-0.134588</td>\n",
       "      <td>-0.243304</td>\n",
       "      <td>-0.348844</td>\n",
       "      <td>-0.146741</td>\n",
       "      <td>-0.317303</td>\n",
       "    </tr>\n",
       "  </tbody>\n",
       "</table>\n",
       "<p>5 rows × 31 columns</p>\n",
       "</div>"
      ],
      "text/plain": [
       "        sex    height    weight       age  years_cl       AUS      AUT  \\\n",
       "0 -0.343238 -3.481824 -0.743802 -0.459692 -0.180052 -0.155445 -0.18155   \n",
       "1 -0.343238 -3.509233 -0.775795 -0.459692 -0.126143 -0.155445 -0.18155   \n",
       "2 -0.343238 -3.471670 -0.721401 -0.450736 -0.117259 -0.155445 -0.18155   \n",
       "3 -0.343238 -3.471670 -0.765360 -0.410255 -0.126143 -0.155445 -0.18155   \n",
       "4 -0.343238 -3.478498 -0.754692 -0.450736 -0.136311 -0.155445 -0.18155   \n",
       "\n",
       "       BEL       BRA      CAN  ...       NLD       NOR       POL       PRT  \\\n",
       "0 -0.13971 -0.189908 -0.16497  ... -0.150143 -0.186048 -0.295008 -0.125356   \n",
       "1 -0.13971 -0.189908 -0.16497  ... -0.150143 -0.186048 -0.295008 -0.125356   \n",
       "2 -0.13971 -0.189908 -0.16497  ... -0.150143 -0.186048 -0.295008 -0.125356   \n",
       "3 -0.13971 -0.189908 -0.16497  ... -0.150143 -0.186048 -0.295008 -0.125356   \n",
       "4 -0.13971 -0.189908 -0.16497  ... -0.150143 -0.186048 -0.295008 -0.125356   \n",
       "\n",
       "        RUS       SVN       SWE       USA       ZAF     other  \n",
       "0 -0.154791 -0.134588  4.110077 -0.348844 -0.146741 -0.317303  \n",
       "1 -0.154791 -0.134588 -0.243304  2.866613 -0.146741 -0.317303  \n",
       "2 -0.154791 -0.134588 -0.243304 -0.348844 -0.146741 -0.317303  \n",
       "3 -0.154791 -0.134588 -0.243304 -0.348844 -0.146741 -0.317303  \n",
       "4 -0.154791 -0.134588 -0.243304 -0.348844 -0.146741 -0.317303  \n",
       "\n",
       "[5 rows x 31 columns]"
      ]
     },
     "execution_count": 3,
     "metadata": {},
     "output_type": "execute_result"
    }
   ],
   "source": [
    "X_train.head()"
   ]
  },
  {
   "cell_type": "markdown",
   "id": "congressional-vatican",
   "metadata": {},
   "source": [
    "## a. Linear Regression"
   ]
  },
  {
   "cell_type": "markdown",
   "id": "activated-trance",
   "metadata": {},
   "source": [
    "<b> Modeling"
   ]
  },
  {
   "cell_type": "code",
   "execution_count": 4,
   "id": "systematic-celebrity",
   "metadata": {},
   "outputs": [],
   "source": [
    "reg = LinearRegression().fit(X_train, y_train)"
   ]
  },
  {
   "cell_type": "markdown",
   "id": "reduced-blackjack",
   "metadata": {},
   "source": [
    "<b> Prediction"
   ]
  },
  {
   "cell_type": "code",
   "execution_count": 5,
   "id": "hidden-comment",
   "metadata": {},
   "outputs": [],
   "source": [
    "y_pred_train = reg.predict(X_train)\n",
    "y_pred_test = reg.predict(X_test)"
   ]
  },
  {
   "cell_type": "code",
   "execution_count": 6,
   "id": "quantitative-madagascar",
   "metadata": {},
   "outputs": [
    {
     "data": {
      "text/html": [
       "<div>\n",
       "<style scoped>\n",
       "    .dataframe tbody tr th:only-of-type {\n",
       "        vertical-align: middle;\n",
       "    }\n",
       "\n",
       "    .dataframe tbody tr th {\n",
       "        vertical-align: top;\n",
       "    }\n",
       "\n",
       "    .dataframe thead th {\n",
       "        text-align: right;\n",
       "    }\n",
       "</style>\n",
       "<table border=\"1\" class=\"dataframe\">\n",
       "  <thead>\n",
       "    <tr style=\"text-align: right;\">\n",
       "      <th></th>\n",
       "      <th>metrics</th>\n",
       "      <th>Train</th>\n",
       "      <th>Test</th>\n",
       "    </tr>\n",
       "  </thead>\n",
       "  <tbody>\n",
       "    <tr>\n",
       "      <th>0</th>\n",
       "      <td>R2</td>\n",
       "      <td>0.34</td>\n",
       "      <td>0.34</td>\n",
       "    </tr>\n",
       "    <tr>\n",
       "      <th>1</th>\n",
       "      <td>MSE</td>\n",
       "      <td>42.85</td>\n",
       "      <td>42.87</td>\n",
       "    </tr>\n",
       "    <tr>\n",
       "      <th>2</th>\n",
       "      <td>RMSE</td>\n",
       "      <td>6.55</td>\n",
       "      <td>6.55</td>\n",
       "    </tr>\n",
       "    <tr>\n",
       "      <th>3</th>\n",
       "      <td>MAE</td>\n",
       "      <td>5.15</td>\n",
       "      <td>5.17</td>\n",
       "    </tr>\n",
       "    <tr>\n",
       "      <th>4</th>\n",
       "      <td>MAPE</td>\n",
       "      <td>9.59</td>\n",
       "      <td>9.69</td>\n",
       "    </tr>\n",
       "  </tbody>\n",
       "</table>\n",
       "</div>"
      ],
      "text/plain": [
       "  metrics  Train   Test\n",
       "0      R2   0.34   0.34\n",
       "1     MSE  42.85  42.87\n",
       "2    RMSE   6.55   6.55\n",
       "3     MAE   5.15   5.17\n",
       "4    MAPE   9.59   9.69"
      ]
     },
     "execution_count": 6,
     "metadata": {},
     "output_type": "execute_result"
    }
   ],
   "source": [
    "metrics_jor.MetricsResults(y_train, y_pred_train,y_test,y_pred_test) # 4 es un error de 1 grado.. 6a-6b"
   ]
  },
  {
   "cell_type": "code",
   "execution_count": 7,
   "id": "quantitative-former",
   "metadata": {},
   "outputs": [],
   "source": [
    "def mean_absolute_percentage_error(y_true, y_pred): \n",
    "    y_true, y_pred = np.array(y_true), np.array(y_pred)\n",
    "    return np.mean(np.abs((y_true - y_pred) / y_true)) * 100"
   ]
  },
  {
   "cell_type": "code",
   "execution_count": 8,
   "id": "capital-merit",
   "metadata": {},
   "outputs": [
    {
     "data": {
      "text/plain": [
       "9.694123779198993"
      ]
     },
     "execution_count": 8,
     "metadata": {},
     "output_type": "execute_result"
    }
   ],
   "source": [
    "mean_absolute_percentage_error(y_test,y_pred_test)"
   ]
  },
  {
   "cell_type": "markdown",
   "id": "structural-delaware",
   "metadata": {},
   "source": [
    "## b. KNN regression"
   ]
  },
  {
   "cell_type": "markdown",
   "id": "fifty-share",
   "metadata": {},
   "source": [
    "<b> Modeling"
   ]
  },
  {
   "cell_type": "code",
   "execution_count": 9,
   "id": "distinguished-shore",
   "metadata": {},
   "outputs": [],
   "source": [
    "knn = KNeighborsRegressor(n_neighbors=20).fit(X_train,y_train)"
   ]
  },
  {
   "cell_type": "markdown",
   "id": "changing-ukraine",
   "metadata": {},
   "source": [
    "<b> Prediction"
   ]
  },
  {
   "cell_type": "code",
   "execution_count": 10,
   "id": "mighty-taxation",
   "metadata": {},
   "outputs": [],
   "source": [
    "y_pred_train = knn.predict(X_train) \n",
    "y_pred_test = knn.predict(X_test) "
   ]
  },
  {
   "cell_type": "code",
   "execution_count": 11,
   "id": "relevant-fairy",
   "metadata": {},
   "outputs": [
    {
     "data": {
      "text/html": [
       "<div>\n",
       "<style scoped>\n",
       "    .dataframe tbody tr th:only-of-type {\n",
       "        vertical-align: middle;\n",
       "    }\n",
       "\n",
       "    .dataframe tbody tr th {\n",
       "        vertical-align: top;\n",
       "    }\n",
       "\n",
       "    .dataframe thead th {\n",
       "        text-align: right;\n",
       "    }\n",
       "</style>\n",
       "<table border=\"1\" class=\"dataframe\">\n",
       "  <thead>\n",
       "    <tr style=\"text-align: right;\">\n",
       "      <th></th>\n",
       "      <th>metrics</th>\n",
       "      <th>Train</th>\n",
       "      <th>Test</th>\n",
       "    </tr>\n",
       "  </thead>\n",
       "  <tbody>\n",
       "    <tr>\n",
       "      <th>0</th>\n",
       "      <td>R2</td>\n",
       "      <td>0.33</td>\n",
       "      <td>0.26</td>\n",
       "    </tr>\n",
       "    <tr>\n",
       "      <th>1</th>\n",
       "      <td>MSE</td>\n",
       "      <td>43.26</td>\n",
       "      <td>48.12</td>\n",
       "    </tr>\n",
       "    <tr>\n",
       "      <th>2</th>\n",
       "      <td>RMSE</td>\n",
       "      <td>6.58</td>\n",
       "      <td>6.94</td>\n",
       "    </tr>\n",
       "    <tr>\n",
       "      <th>3</th>\n",
       "      <td>MAE</td>\n",
       "      <td>5.18</td>\n",
       "      <td>5.48</td>\n",
       "    </tr>\n",
       "    <tr>\n",
       "      <th>4</th>\n",
       "      <td>MAPE</td>\n",
       "      <td>9.70</td>\n",
       "      <td>10.31</td>\n",
       "    </tr>\n",
       "  </tbody>\n",
       "</table>\n",
       "</div>"
      ],
      "text/plain": [
       "  metrics  Train   Test\n",
       "0      R2   0.33   0.26\n",
       "1     MSE  43.26  48.12\n",
       "2    RMSE   6.58   6.94\n",
       "3     MAE   5.18   5.48\n",
       "4    MAPE   9.70  10.31"
      ]
     },
     "execution_count": 11,
     "metadata": {},
     "output_type": "execute_result"
    }
   ],
   "source": [
    "metrics_jor.MetricsResults(y_train, y_pred_train,y_test,y_pred_test)"
   ]
  },
  {
   "cell_type": "markdown",
   "id": "opponent-madonna",
   "metadata": {},
   "source": [
    "## c. Neural Network"
   ]
  },
  {
   "cell_type": "markdown",
   "id": "variable-complex",
   "metadata": {},
   "source": [
    "<b> Modeling"
   ]
  },
  {
   "cell_type": "code",
   "execution_count": 12,
   "id": "smoking-supervisor",
   "metadata": {},
   "outputs": [],
   "source": [
    "mlp = MLPRegressor(max_iter = 1000).fit(X_train,y_train.values.ravel())"
   ]
  },
  {
   "cell_type": "markdown",
   "id": "accomplished-rebel",
   "metadata": {},
   "source": [
    "<b> Prediction"
   ]
  },
  {
   "cell_type": "code",
   "execution_count": 13,
   "id": "outstanding-distinction",
   "metadata": {},
   "outputs": [],
   "source": [
    "y_pred_train = mlp.predict(X_train) \n",
    "y_pred_test = mlp.predict(X_test) "
   ]
  },
  {
   "cell_type": "code",
   "execution_count": 14,
   "id": "accompanied-village",
   "metadata": {
    "scrolled": true
   },
   "outputs": [
    {
     "data": {
      "text/html": [
       "<div>\n",
       "<style scoped>\n",
       "    .dataframe tbody tr th:only-of-type {\n",
       "        vertical-align: middle;\n",
       "    }\n",
       "\n",
       "    .dataframe tbody tr th {\n",
       "        vertical-align: top;\n",
       "    }\n",
       "\n",
       "    .dataframe thead th {\n",
       "        text-align: right;\n",
       "    }\n",
       "</style>\n",
       "<table border=\"1\" class=\"dataframe\">\n",
       "  <thead>\n",
       "    <tr style=\"text-align: right;\">\n",
       "      <th></th>\n",
       "      <th>metrics</th>\n",
       "      <th>Train</th>\n",
       "      <th>Test</th>\n",
       "    </tr>\n",
       "  </thead>\n",
       "  <tbody>\n",
       "    <tr>\n",
       "      <th>0</th>\n",
       "      <td>R2</td>\n",
       "      <td>0.32</td>\n",
       "      <td>0.30</td>\n",
       "    </tr>\n",
       "    <tr>\n",
       "      <th>1</th>\n",
       "      <td>MSE</td>\n",
       "      <td>44.01</td>\n",
       "      <td>44.99</td>\n",
       "    </tr>\n",
       "    <tr>\n",
       "      <th>2</th>\n",
       "      <td>RMSE</td>\n",
       "      <td>6.63</td>\n",
       "      <td>6.71</td>\n",
       "    </tr>\n",
       "    <tr>\n",
       "      <th>3</th>\n",
       "      <td>MAE</td>\n",
       "      <td>5.21</td>\n",
       "      <td>5.30</td>\n",
       "    </tr>\n",
       "    <tr>\n",
       "      <th>4</th>\n",
       "      <td>MAPE</td>\n",
       "      <td>13.63</td>\n",
       "      <td>13.70</td>\n",
       "    </tr>\n",
       "  </tbody>\n",
       "</table>\n",
       "</div>"
      ],
      "text/plain": [
       "  metrics  Train   Test\n",
       "0      R2   0.32   0.30\n",
       "1     MSE  44.01  44.99\n",
       "2    RMSE   6.63   6.71\n",
       "3     MAE   5.21   5.30\n",
       "4    MAPE  13.63  13.70"
      ]
     },
     "execution_count": 14,
     "metadata": {},
     "output_type": "execute_result"
    }
   ],
   "source": [
    "metrics_jor.MetricsResults(y_train, y_pred_train,y_test,y_pred_test)"
   ]
  },
  {
   "cell_type": "code",
   "execution_count": 15,
   "id": "intimate-secondary",
   "metadata": {},
   "outputs": [
    {
     "data": {
      "image/png": "[encoded data removed]",
      "text/plain": [
       "<Figure size 1080x648 with 4 Axes>"
      ]
     },
     "metadata": {},
     "output_type": "display_data"
    }
   ],
   "source": [
    "plot_jordi.results_drawer(y_pred_train,y_train,y_pred_test,y_test)"
   ]
  },
  {
   "cell_type": "markdown",
   "id": "electoral-russian",
   "metadata": {},
   "source": [
    "## Conclusion"
   ]
  },
  {
   "cell_type": "markdown",
   "id": "royal-irish",
   "metadata": {},
   "source": [
    "As we can see the results of the models are not as good as expected. We can certainly say that we need more features in order to be able to build a model more accurate."
   ]
  },
  {
   "cell_type": "markdown",
   "id": "altered-performance",
   "metadata": {},
   "source": [
    "## - Save model -"
   ]
  },
  {
   "cell_type": "code",
   "execution_count": 16,
   "id": "equipped-agenda",
   "metadata": {},
   "outputs": [],
   "source": [
    "# save the models to disk\n",
    "filename = '../model/finalized_model.sav'\n",
    "pickle.dump(reg, open(filename, 'wb'))"
   ]
  }
 ],
 "metadata": {
  "kernelspec": {
   "display_name": "Python 3 (ipykernel)",
   "language": "python",
   "name": "python3"
  },
  "language_info": {
   "codemirror_mode": {
    "name": "ipython",
    "version": 3
   },
   "file_extension": ".py",
   "mimetype": "text/x-python",
   "name": "python",
   "nbconvert_exporter": "python",
   "pygments_lexer": "ipython3",
   "version": "3.9.5"
  }
 },
 "nbformat": 4,
 "nbformat_minor": 5
}

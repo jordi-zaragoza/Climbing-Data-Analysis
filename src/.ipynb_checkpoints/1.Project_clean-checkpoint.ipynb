{
 "cells": [
  {
   "cell_type": "code",
   "execution_count": 2,
   "id": "liked-intersection",
   "metadata": {},
   "outputs": [],
   "source": [
    "import pandas as pd \n",
    "import numpy as np\n",
    "import tables\n",
    "import clean_jor\n",
    "import metrics_jor"
   ]
  },
  {
   "cell_type": "code",
   "execution_count": 3,
   "id": "early-convention",
   "metadata": {},
   "outputs": [],
   "source": [
    "pd.set_option(\"display.max_columns\",None)\n",
    "pd.set_option('display.max_rows', 10)"
   ]
  },
  {
   "cell_type": "markdown",
   "id": "reliable-arkansas",
   "metadata": {},
   "source": [
    "# 1. Get tables and clean"
   ]
  },
  {
   "cell_type": "markdown",
   "id": "juvenile-density",
   "metadata": {},
   "source": [
    "In the 8a.nu Database we have 3 different tables: \n",
    "- User : with all the user information\n",
    "- Ascent: the user can record his/her ascention and grade it\n",
    "- Conversion: the grade conversion for different countries"
   ]
  },
  {
   "cell_type": "markdown",
   "id": "proprietary-conjunction",
   "metadata": {},
   "source": [
    "<b>GET USER-ASCENT-CONVERSION TABLES"
   ]
  },
  {
   "cell_type": "code",
   "execution_count": 4,
   "id": "induced-remark",
   "metadata": {},
   "outputs": [],
   "source": [
    "conversion = tables.conversion_table()\n",
    "user = tables.user_table()\n",
    "ascent = tables.ascent_table()"
   ]
  },
  {
   "cell_type": "code",
   "execution_count": 5,
   "id": "connected-custom",
   "metadata": {},
   "outputs": [
    {
     "data": {
      "text/html": [
       "<div>\n",
       "<style scoped>\n",
       "    .dataframe tbody tr th:only-of-type {\n",
       "        vertical-align: middle;\n",
       "    }\n",
       "\n",
       "    .dataframe tbody tr th {\n",
       "        vertical-align: top;\n",
       "    }\n",
       "\n",
       "    .dataframe thead th {\n",
       "        text-align: right;\n",
       "    }\n",
       "</style>\n",
       "<table border=\"1\" class=\"dataframe\">\n",
       "  <thead>\n",
       "    <tr style=\"text-align: right;\">\n",
       "      <th></th>\n",
       "      <th>user_id</th>\n",
       "      <th>first_name</th>\n",
       "      <th>last_name</th>\n",
       "      <th>city</th>\n",
       "      <th>country</th>\n",
       "      <th>sex</th>\n",
       "      <th>height</th>\n",
       "      <th>weight</th>\n",
       "      <th>started</th>\n",
       "      <th>competitions</th>\n",
       "      <th>occupation</th>\n",
       "      <th>sponsor1</th>\n",
       "      <th>sponsor2</th>\n",
       "      <th>sponsor3</th>\n",
       "      <th>best_area</th>\n",
       "      <th>worst_area</th>\n",
       "      <th>guide_area</th>\n",
       "      <th>interests</th>\n",
       "      <th>birth</th>\n",
       "      <th>presentation</th>\n",
       "      <th>deactivated</th>\n",
       "      <th>anonymous</th>\n",
       "    </tr>\n",
       "  </thead>\n",
       "  <tbody>\n",
       "    <tr>\n",
       "      <th>0</th>\n",
       "      <td>1</td>\n",
       "      <td>first</td>\n",
       "      <td>last</td>\n",
       "      <td>Göteborg</td>\n",
       "      <td>SWE</td>\n",
       "      <td>0</td>\n",
       "      <td>177</td>\n",
       "      <td>73</td>\n",
       "      <td>1996</td>\n",
       "      <td>NaN</td>\n",
       "      <td>NaN</td>\n",
       "      <td>NaN</td>\n",
       "      <td>NaN</td>\n",
       "      <td>NaN</td>\n",
       "      <td>Railay beach, Krabi, Thailand</td>\n",
       "      <td>NaN</td>\n",
       "      <td>NaN</td>\n",
       "      <td>NaN</td>\n",
       "      <td>1976-03-10</td>\n",
       "      <td>NaN</td>\n",
       "      <td>0</td>\n",
       "      <td>0</td>\n",
       "    </tr>\n",
       "    <tr>\n",
       "      <th>1</th>\n",
       "      <td>2</td>\n",
       "      <td>first</td>\n",
       "      <td>last</td>\n",
       "      <td>stockholm</td>\n",
       "      <td>SWE</td>\n",
       "      <td>0</td>\n",
       "      <td>0</td>\n",
       "      <td>0</td>\n",
       "      <td>2000</td>\n",
       "      <td>NaN</td>\n",
       "      <td>NaN</td>\n",
       "      <td>NaN</td>\n",
       "      <td>NaN</td>\n",
       "      <td>NaN</td>\n",
       "      <td>NaN</td>\n",
       "      <td>NaN</td>\n",
       "      <td>NaN</td>\n",
       "      <td>NaN</td>\n",
       "      <td>NaN</td>\n",
       "      <td>NaN</td>\n",
       "      <td>0</td>\n",
       "      <td>0</td>\n",
       "    </tr>\n",
       "  </tbody>\n",
       "</table>\n",
       "</div>"
      ],
      "text/plain": [
       "   user_id first_name last_name       city country  sex  height  weight  \\\n",
       "0        1      first      last   Göteborg     SWE    0     177      73   \n",
       "1        2      first      last  stockholm     SWE    0       0       0   \n",
       "\n",
       "   started competitions occupation sponsor1 sponsor2 sponsor3  \\\n",
       "0     1996          NaN        NaN      NaN      NaN      NaN   \n",
       "1     2000          NaN        NaN      NaN      NaN      NaN   \n",
       "\n",
       "                       best_area worst_area guide_area interests       birth  \\\n",
       "0  Railay beach, Krabi, Thailand        NaN        NaN       NaN  1976-03-10   \n",
       "1                            NaN        NaN        NaN       NaN         NaN   \n",
       "\n",
       "  presentation  deactivated  anonymous  \n",
       "0          NaN            0          0  \n",
       "1          NaN            0          0  "
      ]
     },
     "execution_count": 5,
     "metadata": {},
     "output_type": "execute_result"
    }
   ],
   "source": [
    "user.head(2)"
   ]
  },
  {
   "cell_type": "markdown",
   "id": "horizontal-bishop",
   "metadata": {},
   "source": [
    "<b>CLEAN USER-ASCENT TABLES"
   ]
  },
  {
   "cell_type": "code",
   "execution_count": 6,
   "id": "medieval-weekly",
   "metadata": {},
   "outputs": [
    {
     "name": "stdout",
     "output_type": "stream",
     "text": [
      "Before cleaning the table \n",
      "(62593, 22)\n",
      "\n",
      "\n",
      "After cleaning the table \n",
      "(17544, 7)\n"
     ]
    }
   ],
   "source": [
    "user_clean = tables.clean_user(user)"
   ]
  },
  {
   "cell_type": "code",
   "execution_count": 7,
   "id": "english-apparatus",
   "metadata": {
    "scrolled": true
   },
   "outputs": [
    {
     "data": {
      "text/html": [
       "<div>\n",
       "<style scoped>\n",
       "    .dataframe tbody tr th:only-of-type {\n",
       "        vertical-align: middle;\n",
       "    }\n",
       "\n",
       "    .dataframe tbody tr th {\n",
       "        vertical-align: top;\n",
       "    }\n",
       "\n",
       "    .dataframe thead th {\n",
       "        text-align: right;\n",
       "    }\n",
       "</style>\n",
       "<table border=\"1\" class=\"dataframe\">\n",
       "  <thead>\n",
       "    <tr style=\"text-align: right;\">\n",
       "      <th></th>\n",
       "      <th>country</th>\n",
       "      <th>sex</th>\n",
       "      <th>height</th>\n",
       "      <th>weight</th>\n",
       "      <th>age</th>\n",
       "      <th>years_cl</th>\n",
       "    </tr>\n",
       "    <tr>\n",
       "      <th>user_id</th>\n",
       "      <th></th>\n",
       "      <th></th>\n",
       "      <th></th>\n",
       "      <th></th>\n",
       "      <th></th>\n",
       "      <th></th>\n",
       "    </tr>\n",
       "  </thead>\n",
       "  <tbody>\n",
       "    <tr>\n",
       "      <th>1</th>\n",
       "      <td>SWE</td>\n",
       "      <td>0</td>\n",
       "      <td>177</td>\n",
       "      <td>73</td>\n",
       "      <td>41.0</td>\n",
       "      <td>21</td>\n",
       "    </tr>\n",
       "    <tr>\n",
       "      <th>3</th>\n",
       "      <td>SWE</td>\n",
       "      <td>0</td>\n",
       "      <td>180</td>\n",
       "      <td>78</td>\n",
       "      <td>44.0</td>\n",
       "      <td>22</td>\n",
       "    </tr>\n",
       "    <tr>\n",
       "      <th>4</th>\n",
       "      <td>SWE</td>\n",
       "      <td>1</td>\n",
       "      <td>165</td>\n",
       "      <td>58</td>\n",
       "      <td>33.0</td>\n",
       "      <td>16</td>\n",
       "    </tr>\n",
       "    <tr>\n",
       "      <th>6</th>\n",
       "      <td>AUS</td>\n",
       "      <td>0</td>\n",
       "      <td>185</td>\n",
       "      <td>73</td>\n",
       "      <td>47.0</td>\n",
       "      <td>25</td>\n",
       "    </tr>\n",
       "  </tbody>\n",
       "</table>\n",
       "</div>"
      ],
      "text/plain": [
       "        country  sex  height  weight   age  years_cl\n",
       "user_id                                             \n",
       "1           SWE    0     177      73  41.0        21\n",
       "3           SWE    0     180      78  44.0        22\n",
       "4           SWE    1     165      58  33.0        16\n",
       "6           AUS    0     185      73  47.0        25"
      ]
     },
     "execution_count": 7,
     "metadata": {},
     "output_type": "execute_result"
    }
   ],
   "source": [
    "user_clean.head(4)"
   ]
  },
  {
   "cell_type": "code",
   "execution_count": 8,
   "id": "grand-religious",
   "metadata": {
    "scrolled": true
   },
   "outputs": [
    {
     "name": "stdout",
     "output_type": "stream",
     "text": [
      "Before cleaning the table \n",
      "(4111877, 28)\n",
      "(2875675, 14)\n",
      "(2826372, 14)\n",
      "\n",
      "\n",
      "After cleaning the table \n",
      "(1684457, 15)\n"
     ]
    }
   ],
   "source": [
    "ascent_clean = tables.clean_ascent(ascent)"
   ]
  },
  {
   "cell_type": "code",
   "execution_count": 9,
   "id": "charged-seminar",
   "metadata": {
    "scrolled": true
   },
   "outputs": [
    {
     "data": {
      "text/html": [
       "<div>\n",
       "<style scoped>\n",
       "    .dataframe tbody tr th:only-of-type {\n",
       "        vertical-align: middle;\n",
       "    }\n",
       "\n",
       "    .dataframe tbody tr th {\n",
       "        vertical-align: top;\n",
       "    }\n",
       "\n",
       "    .dataframe thead th {\n",
       "        text-align: right;\n",
       "    }\n",
       "</style>\n",
       "<table border=\"1\" class=\"dataframe\">\n",
       "  <thead>\n",
       "    <tr style=\"text-align: right;\">\n",
       "      <th></th>\n",
       "      <th>user_id</th>\n",
       "      <th>grade_id</th>\n",
       "      <th>method_id</th>\n",
       "      <th>date</th>\n",
       "      <th>year</th>\n",
       "      <th>rec_date</th>\n",
       "      <th>name</th>\n",
       "      <th>crag_id</th>\n",
       "      <th>sector_id</th>\n",
       "      <th>country</th>\n",
       "      <th>comment</th>\n",
       "      <th>rating</th>\n",
       "      <th>user_recommended</th>\n",
       "      <th>first_ascent</th>\n",
       "      <th>second_go</th>\n",
       "    </tr>\n",
       "  </thead>\n",
       "  <tbody>\n",
       "    <tr>\n",
       "      <th>0</th>\n",
       "      <td>1</td>\n",
       "      <td>36</td>\n",
       "      <td>3</td>\n",
       "      <td>1999-02-06 23:00:00</td>\n",
       "      <td>1999</td>\n",
       "      <td>2005-01-30 23:00:00</td>\n",
       "      <td>the king and i</td>\n",
       "      <td>16596</td>\n",
       "      <td>61</td>\n",
       "      <td>tha</td>\n",
       "      <td>thailand\\n</td>\n",
       "      <td>0</td>\n",
       "      <td>0</td>\n",
       "      <td>0</td>\n",
       "      <td>0</td>\n",
       "    </tr>\n",
       "    <tr>\n",
       "      <th>1</th>\n",
       "      <td>1</td>\n",
       "      <td>36</td>\n",
       "      <td>3</td>\n",
       "      <td>1999-07-26 22:00:00</td>\n",
       "      <td>1999</td>\n",
       "      <td>2005-01-30 23:00:00</td>\n",
       "      <td>mr big</td>\n",
       "      <td>209</td>\n",
       "      <td>371</td>\n",
       "      <td>swe</td>\n",
       "      <td>\\n</td>\n",
       "      <td>0</td>\n",
       "      <td>0</td>\n",
       "      <td>0</td>\n",
       "      <td>0</td>\n",
       "    </tr>\n",
       "    <tr>\n",
       "      <th>2</th>\n",
       "      <td>1</td>\n",
       "      <td>36</td>\n",
       "      <td>3</td>\n",
       "      <td>1999-07-26 22:00:00</td>\n",
       "      <td>1999</td>\n",
       "      <td>2005-01-30 23:00:00</td>\n",
       "      <td>tak ska du ha</td>\n",
       "      <td>209</td>\n",
       "      <td>371</td>\n",
       "      <td>swe</td>\n",
       "      <td>\\n</td>\n",
       "      <td>0</td>\n",
       "      <td>0</td>\n",
       "      <td>0</td>\n",
       "      <td>0</td>\n",
       "    </tr>\n",
       "  </tbody>\n",
       "</table>\n",
       "</div>"
      ],
      "text/plain": [
       "   user_id  grade_id  method_id                date  year            rec_date  \\\n",
       "0        1        36          3 1999-02-06 23:00:00  1999 2005-01-30 23:00:00   \n",
       "1        1        36          3 1999-07-26 22:00:00  1999 2005-01-30 23:00:00   \n",
       "2        1        36          3 1999-07-26 22:00:00  1999 2005-01-30 23:00:00   \n",
       "\n",
       "             name  crag_id  sector_id country     comment  rating  \\\n",
       "0  the king and i    16596         61     tha  thailand\\n       0   \n",
       "1          mr big      209        371     swe          \\n       0   \n",
       "2   tak ska du ha      209        371     swe          \\n       0   \n",
       "\n",
       "   user_recommended  first_ascent  second_go  \n",
       "0                 0             0          0  \n",
       "1                 0             0          0  \n",
       "2                 0             0          0  "
      ]
     },
     "execution_count": 9,
     "metadata": {},
     "output_type": "execute_result"
    }
   ],
   "source": [
    "ascent_clean.head(3)"
   ]
  },
  {
   "cell_type": "code",
   "execution_count": 10,
   "id": "capital-chapter",
   "metadata": {},
   "outputs": [
    {
     "data": {
      "text/plain": [
       "(1684457, 15)"
      ]
     },
     "execution_count": 10,
     "metadata": {},
     "output_type": "execute_result"
    }
   ],
   "source": [
    "ascent_clean.shape"
   ]
  },
  {
   "cell_type": "markdown",
   "id": "uniform-attack",
   "metadata": {},
   "source": [
    "<b> GET GRADES TABLE"
   ]
  },
  {
   "cell_type": "markdown",
   "id": "placed-albania",
   "metadata": {},
   "source": [
    "The grades table shows different grade information for each user, it is derivated from the ascent table"
   ]
  },
  {
   "cell_type": "code",
   "execution_count": 11,
   "id": "whole-authentication",
   "metadata": {},
   "outputs": [],
   "source": [
    "grades = tables.grades_table(ascent_clean)"
   ]
  },
  {
   "cell_type": "code",
   "execution_count": 12,
   "id": "internal-smell",
   "metadata": {},
   "outputs": [
    {
     "data": {
      "text/html": [
       "<div>\n",
       "<style scoped>\n",
       "    .dataframe tbody tr th:only-of-type {\n",
       "        vertical-align: middle;\n",
       "    }\n",
       "\n",
       "    .dataframe tbody tr th {\n",
       "        vertical-align: top;\n",
       "    }\n",
       "\n",
       "    .dataframe thead th {\n",
       "        text-align: right;\n",
       "    }\n",
       "</style>\n",
       "<table border=\"1\" class=\"dataframe\">\n",
       "  <thead>\n",
       "    <tr style=\"text-align: right;\">\n",
       "      <th></th>\n",
       "      <th>user_id</th>\n",
       "      <th>date_first</th>\n",
       "      <th>date_last</th>\n",
       "      <th>grades_count</th>\n",
       "      <th>grades_first</th>\n",
       "      <th>grades_last</th>\n",
       "      <th>grades_max</th>\n",
       "      <th>grades_mean</th>\n",
       "      <th>year_first</th>\n",
       "      <th>year_last</th>\n",
       "    </tr>\n",
       "  </thead>\n",
       "  <tbody>\n",
       "    <tr>\n",
       "      <th>0</th>\n",
       "      <td>1</td>\n",
       "      <td>1999-02-06 23:00:00</td>\n",
       "      <td>2001-07-31 22:00:00</td>\n",
       "      <td>84</td>\n",
       "      <td>36</td>\n",
       "      <td>55</td>\n",
       "      <td>62</td>\n",
       "      <td>46.750000</td>\n",
       "      <td>1999</td>\n",
       "      <td>2001</td>\n",
       "    </tr>\n",
       "    <tr>\n",
       "      <th>1</th>\n",
       "      <td>3</td>\n",
       "      <td>1999-03-31 22:00:00</td>\n",
       "      <td>2000-07-19 22:00:00</td>\n",
       "      <td>12</td>\n",
       "      <td>53</td>\n",
       "      <td>51</td>\n",
       "      <td>59</td>\n",
       "      <td>52.833333</td>\n",
       "      <td>1999</td>\n",
       "      <td>2000</td>\n",
       "    </tr>\n",
       "  </tbody>\n",
       "</table>\n",
       "</div>"
      ],
      "text/plain": [
       "   user_id          date_first           date_last  grades_count  \\\n",
       "0        1 1999-02-06 23:00:00 2001-07-31 22:00:00            84   \n",
       "1        3 1999-03-31 22:00:00 2000-07-19 22:00:00            12   \n",
       "\n",
       "   grades_first  grades_last  grades_max  grades_mean  year_first  year_last  \n",
       "0            36           55          62    46.750000        1999       2001  \n",
       "1            53           51          59    52.833333        1999       2000  "
      ]
     },
     "execution_count": 12,
     "metadata": {},
     "output_type": "execute_result"
    }
   ],
   "source": [
    "grades.head(2)"
   ]
  },
  {
   "cell_type": "code",
   "execution_count": 13,
   "id": "criminal-aruba",
   "metadata": {},
   "outputs": [
    {
     "data": {
      "text/plain": [
       "(25767, 10)"
      ]
     },
     "execution_count": 13,
     "metadata": {},
     "output_type": "execute_result"
    }
   ],
   "source": [
    "grades.shape"
   ]
  },
  {
   "cell_type": "markdown",
   "id": "adjustable-armstrong",
   "metadata": {},
   "source": [
    "<b> GET CLIMBER TABLE"
   ]
  },
  {
   "cell_type": "markdown",
   "id": "overall-arena",
   "metadata": {},
   "source": [
    "We concatenate user and grades table to get the main table"
   ]
  },
  {
   "cell_type": "code",
   "execution_count": 14,
   "id": "timely-shift",
   "metadata": {},
   "outputs": [],
   "source": [
    "grades = grades.set_index(\"user_id\")\n",
    "climber_df = pd.concat([user_clean,grades],axis=1,join='inner')\n",
    "climber_df.to_csv('../data/climber_df.csv')"
   ]
  },
  {
   "cell_type": "code",
   "execution_count": 15,
   "id": "documentary-criterion",
   "metadata": {},
   "outputs": [
    {
     "data": {
      "text/html": [
       "<div>\n",
       "<style scoped>\n",
       "    .dataframe tbody tr th:only-of-type {\n",
       "        vertical-align: middle;\n",
       "    }\n",
       "\n",
       "    .dataframe tbody tr th {\n",
       "        vertical-align: top;\n",
       "    }\n",
       "\n",
       "    .dataframe thead th {\n",
       "        text-align: right;\n",
       "    }\n",
       "</style>\n",
       "<table border=\"1\" class=\"dataframe\">\n",
       "  <thead>\n",
       "    <tr style=\"text-align: right;\">\n",
       "      <th></th>\n",
       "      <th>country</th>\n",
       "      <th>sex</th>\n",
       "      <th>height</th>\n",
       "      <th>weight</th>\n",
       "      <th>age</th>\n",
       "      <th>years_cl</th>\n",
       "      <th>date_first</th>\n",
       "      <th>date_last</th>\n",
       "      <th>grades_count</th>\n",
       "      <th>grades_first</th>\n",
       "      <th>grades_last</th>\n",
       "      <th>grades_max</th>\n",
       "      <th>grades_mean</th>\n",
       "      <th>year_first</th>\n",
       "      <th>year_last</th>\n",
       "    </tr>\n",
       "    <tr>\n",
       "      <th>user_id</th>\n",
       "      <th></th>\n",
       "      <th></th>\n",
       "      <th></th>\n",
       "      <th></th>\n",
       "      <th></th>\n",
       "      <th></th>\n",
       "      <th></th>\n",
       "      <th></th>\n",
       "      <th></th>\n",
       "      <th></th>\n",
       "      <th></th>\n",
       "      <th></th>\n",
       "      <th></th>\n",
       "      <th></th>\n",
       "      <th></th>\n",
       "    </tr>\n",
       "  </thead>\n",
       "  <tbody>\n",
       "    <tr>\n",
       "      <th>1</th>\n",
       "      <td>SWE</td>\n",
       "      <td>0</td>\n",
       "      <td>177</td>\n",
       "      <td>73</td>\n",
       "      <td>41.0</td>\n",
       "      <td>21</td>\n",
       "      <td>1999-02-06 23:00:00</td>\n",
       "      <td>2001-07-31 22:00:00</td>\n",
       "      <td>84</td>\n",
       "      <td>36</td>\n",
       "      <td>55</td>\n",
       "      <td>62</td>\n",
       "      <td>46.750000</td>\n",
       "      <td>1999</td>\n",
       "      <td>2001</td>\n",
       "    </tr>\n",
       "    <tr>\n",
       "      <th>3</th>\n",
       "      <td>SWE</td>\n",
       "      <td>0</td>\n",
       "      <td>180</td>\n",
       "      <td>78</td>\n",
       "      <td>44.0</td>\n",
       "      <td>22</td>\n",
       "      <td>1999-03-31 22:00:00</td>\n",
       "      <td>2000-07-19 22:00:00</td>\n",
       "      <td>12</td>\n",
       "      <td>53</td>\n",
       "      <td>51</td>\n",
       "      <td>59</td>\n",
       "      <td>52.833333</td>\n",
       "      <td>1999</td>\n",
       "      <td>2000</td>\n",
       "    </tr>\n",
       "    <tr>\n",
       "      <th>4</th>\n",
       "      <td>SWE</td>\n",
       "      <td>1</td>\n",
       "      <td>165</td>\n",
       "      <td>58</td>\n",
       "      <td>33.0</td>\n",
       "      <td>16</td>\n",
       "      <td>2004-06-30 22:00:00</td>\n",
       "      <td>2009-05-26 22:00:00</td>\n",
       "      <td>119</td>\n",
       "      <td>53</td>\n",
       "      <td>49</td>\n",
       "      <td>64</td>\n",
       "      <td>53.890756</td>\n",
       "      <td>2004</td>\n",
       "      <td>2009</td>\n",
       "    </tr>\n",
       "  </tbody>\n",
       "</table>\n",
       "</div>"
      ],
      "text/plain": [
       "        country  sex  height  weight   age  years_cl          date_first  \\\n",
       "user_id                                                                    \n",
       "1           SWE    0     177      73  41.0        21 1999-02-06 23:00:00   \n",
       "3           SWE    0     180      78  44.0        22 1999-03-31 22:00:00   \n",
       "4           SWE    1     165      58  33.0        16 2004-06-30 22:00:00   \n",
       "\n",
       "                  date_last  grades_count  grades_first  grades_last  \\\n",
       "user_id                                                                \n",
       "1       2001-07-31 22:00:00            84            36           55   \n",
       "3       2000-07-19 22:00:00            12            53           51   \n",
       "4       2009-05-26 22:00:00           119            53           49   \n",
       "\n",
       "         grades_max  grades_mean  year_first  year_last  \n",
       "user_id                                                  \n",
       "1                62    46.750000        1999       2001  \n",
       "3                59    52.833333        1999       2000  \n",
       "4                64    53.890756        2004       2009  "
      ]
     },
     "execution_count": 15,
     "metadata": {},
     "output_type": "execute_result"
    }
   ],
   "source": [
    "climber_df.head(3)"
   ]
  },
  {
   "cell_type": "markdown",
   "id": "labeled-encyclopedia",
   "metadata": {},
   "source": [
    "<b> CLEAN CLIMBER TABLE"
   ]
  },
  {
   "cell_type": "code",
   "execution_count": 16,
   "id": "parallel-elevation",
   "metadata": {},
   "outputs": [
    {
     "name": "stdout",
     "output_type": "stream",
     "text": [
      "Before cleaning the table \n",
      "(10927, 15)\n",
      "\n",
      "\n",
      "After cleaning the table \n",
      "(7719, 10)\n"
     ]
    }
   ],
   "source": [
    "climber_clean = clean_jor.clean_climber(climber_df,conversion)"
   ]
  },
  {
   "cell_type": "code",
   "execution_count": 17,
   "id": "several-antigua",
   "metadata": {
    "scrolled": false
   },
   "outputs": [
    {
     "data": {
      "text/html": [
       "<div>\n",
       "<style scoped>\n",
       "    .dataframe tbody tr th:only-of-type {\n",
       "        vertical-align: middle;\n",
       "    }\n",
       "\n",
       "    .dataframe tbody tr th {\n",
       "        vertical-align: top;\n",
       "    }\n",
       "\n",
       "    .dataframe thead th {\n",
       "        text-align: right;\n",
       "    }\n",
       "</style>\n",
       "<table border=\"1\" class=\"dataframe\">\n",
       "  <thead>\n",
       "    <tr style=\"text-align: right;\">\n",
       "      <th></th>\n",
       "      <th>country</th>\n",
       "      <th>sex</th>\n",
       "      <th>height</th>\n",
       "      <th>weight</th>\n",
       "      <th>age</th>\n",
       "      <th>years_cl</th>\n",
       "      <th>grades_max</th>\n",
       "      <th>grades_mean</th>\n",
       "      <th>year_last</th>\n",
       "      <th>max_fra</th>\n",
       "    </tr>\n",
       "  </thead>\n",
       "  <tbody>\n",
       "    <tr>\n",
       "      <th>0</th>\n",
       "      <td>SWE</td>\n",
       "      <td>0</td>\n",
       "      <td>177</td>\n",
       "      <td>73</td>\n",
       "      <td>25.0</td>\n",
       "      <td>5</td>\n",
       "      <td>62</td>\n",
       "      <td>46.750000</td>\n",
       "      <td>2001</td>\n",
       "      <td>8a+/8b</td>\n",
       "    </tr>\n",
       "    <tr>\n",
       "      <th>1</th>\n",
       "      <td>SWE</td>\n",
       "      <td>0</td>\n",
       "      <td>180</td>\n",
       "      <td>78</td>\n",
       "      <td>27.0</td>\n",
       "      <td>5</td>\n",
       "      <td>59</td>\n",
       "      <td>52.833333</td>\n",
       "      <td>2000</td>\n",
       "      <td>8a</td>\n",
       "    </tr>\n",
       "    <tr>\n",
       "      <th>2</th>\n",
       "      <td>NOR</td>\n",
       "      <td>0</td>\n",
       "      <td>177</td>\n",
       "      <td>68</td>\n",
       "      <td>37.0</td>\n",
       "      <td>14</td>\n",
       "      <td>53</td>\n",
       "      <td>51.400000</td>\n",
       "      <td>2010</td>\n",
       "      <td>7b+</td>\n",
       "    </tr>\n",
       "    <tr>\n",
       "      <th>3</th>\n",
       "      <td>BEL</td>\n",
       "      <td>0</td>\n",
       "      <td>180</td>\n",
       "      <td>68</td>\n",
       "      <td>21.0</td>\n",
       "      <td>6</td>\n",
       "      <td>49</td>\n",
       "      <td>37.250000</td>\n",
       "      <td>2002</td>\n",
       "      <td>7a+</td>\n",
       "    </tr>\n",
       "    <tr>\n",
       "      <th>4</th>\n",
       "      <td>CAN</td>\n",
       "      <td>0</td>\n",
       "      <td>180</td>\n",
       "      <td>68</td>\n",
       "      <td>45.0</td>\n",
       "      <td>29</td>\n",
       "      <td>64</td>\n",
       "      <td>50.395349</td>\n",
       "      <td>2017</td>\n",
       "      <td>8b/+</td>\n",
       "    </tr>\n",
       "  </tbody>\n",
       "</table>\n",
       "</div>"
      ],
      "text/plain": [
       "  country  sex  height  weight   age  years_cl  grades_max  grades_mean  \\\n",
       "0     SWE    0     177      73  25.0         5          62    46.750000   \n",
       "1     SWE    0     180      78  27.0         5          59    52.833333   \n",
       "2     NOR    0     177      68  37.0        14          53    51.400000   \n",
       "3     BEL    0     180      68  21.0         6          49    37.250000   \n",
       "4     CAN    0     180      68  45.0        29          64    50.395349   \n",
       "\n",
       "   year_last max_fra  \n",
       "0       2001  8a+/8b  \n",
       "1       2000      8a  \n",
       "2       2010     7b+  \n",
       "3       2002     7a+  \n",
       "4       2017    8b/+  "
      ]
     },
     "execution_count": 17,
     "metadata": {},
     "output_type": "execute_result"
    }
   ],
   "source": [
    "climber_clean.head()"
   ]
  },
  {
   "cell_type": "markdown",
   "id": "contemporary-theory",
   "metadata": {},
   "source": [
    "<b> GET COUNTRY GRADES TABLE"
   ]
  },
  {
   "cell_type": "markdown",
   "id": "european-interview",
   "metadata": {},
   "source": [
    "This table will be used in tableau for analytical purposes"
   ]
  },
  {
   "cell_type": "code",
   "execution_count": 18,
   "id": "meaning-allah",
   "metadata": {},
   "outputs": [],
   "source": [
    "country = tables.country_table(climber_df, conversion)"
   ]
  },
  {
   "cell_type": "markdown",
   "id": "proud-static",
   "metadata": {},
   "source": [
    "## - Save dataframe -"
   ]
  },
  {
   "cell_type": "code",
   "execution_count": 19,
   "id": "light-investment",
   "metadata": {},
   "outputs": [],
   "source": [
    "ascent_clean.to_csv('../../databases/ascent_clean.csv')\n",
    "country.to_csv('../data/country.csv')\n",
    "climber_clean.to_csv('../data/climber_all_clean.csv')"
   ]
  }
 ],
 "metadata": {
  "kernelspec": {
   "display_name": "Python 3 (ipykernel)",
   "language": "python",
   "name": "python3"
  },
  "language_info": {
   "codemirror_mode": {
    "name": "ipython",
    "version": 3
   },
   "file_extension": ".py",
   "mimetype": "text/x-python",
   "name": "python",
   "nbconvert_exporter": "python",
   "pygments_lexer": "ipython3",
   "version": "3.9.5"
  }
 },
 "nbformat": 4,
 "nbformat_minor": 5
}

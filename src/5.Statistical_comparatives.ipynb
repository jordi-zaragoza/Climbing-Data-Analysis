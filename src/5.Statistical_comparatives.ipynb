{
 "cells": [
  {
   "cell_type": "code",
   "execution_count": 3,
   "id": "affected-father",
   "metadata": {},
   "outputs": [],
   "source": [
    "import pandas as pd \n",
    "import numpy as np\n",
    "import tables\n",
    "import clean_jor\n",
    "import metrics_jor"
   ]
  },
  {
   "cell_type": "code",
   "execution_count": 4,
   "id": "oriented-girlfriend",
   "metadata": {},
   "outputs": [],
   "source": [
    "climber_clean = pd.read_csv('../data/climber_all_clean.csv')"
   ]
  },
  {
   "cell_type": "markdown",
   "id": "artificial-vintage",
   "metadata": {},
   "source": [
    "# 5. Statistical Comparatives"
   ]
  },
  {
   "cell_type": "markdown",
   "id": "expired-horse",
   "metadata": {},
   "source": [
    "We are going to compare the mean value of men and women grades to see if there is actually a big difference or not. The method used is the Aspin-Welch t-test method"
   ]
  },
  {
   "cell_type": "markdown",
   "id": "entertaining-tunisia",
   "metadata": {},
   "source": [
    "### MAX GRADE"
   ]
  },
  {
   "cell_type": "code",
   "execution_count": 5,
   "id": "civic-spread",
   "metadata": {},
   "outputs": [],
   "source": [
    "climber_men = climber_clean[climber_clean.sex == 0]\n",
    "climber_women = climber_clean[climber_clean.sex == 1]"
   ]
  },
  {
   "cell_type": "code",
   "execution_count": 6,
   "id": "funny-standard",
   "metadata": {
    "scrolled": false
   },
   "outputs": [
    {
     "data": {
      "text/html": [
       "<div>\n",
       "<style scoped>\n",
       "    .dataframe tbody tr th:only-of-type {\n",
       "        vertical-align: middle;\n",
       "    }\n",
       "\n",
       "    .dataframe tbody tr th {\n",
       "        vertical-align: top;\n",
       "    }\n",
       "\n",
       "    .dataframe thead th {\n",
       "        text-align: right;\n",
       "    }\n",
       "</style>\n",
       "<table border=\"1\" class=\"dataframe\">\n",
       "  <thead>\n",
       "    <tr style=\"text-align: right;\">\n",
       "      <th></th>\n",
       "      <th>metrics</th>\n",
       "      <th>men</th>\n",
       "      <th>women</th>\n",
       "    </tr>\n",
       "  </thead>\n",
       "  <tbody>\n",
       "    <tr>\n",
       "      <th>0</th>\n",
       "      <td>mean</td>\n",
       "      <td>57.46</td>\n",
       "      <td>54.41</td>\n",
       "    </tr>\n",
       "    <tr>\n",
       "      <th>1</th>\n",
       "      <td>sdev</td>\n",
       "      <td>8.24</td>\n",
       "      <td>8.31</td>\n",
       "    </tr>\n",
       "    <tr>\n",
       "      <th>2</th>\n",
       "      <td>num</td>\n",
       "      <td>7813.00</td>\n",
       "      <td>942.00</td>\n",
       "    </tr>\n",
       "  </tbody>\n",
       "</table>\n",
       "</div>"
      ],
      "text/plain": [
       "  metrics      men   women\n",
       "0    mean    57.46   54.41\n",
       "1    sdev     8.24    8.31\n",
       "2     num  7813.00  942.00"
      ]
     },
     "metadata": {},
     "output_type": "display_data"
    },
    {
     "name": "stdout",
     "output_type": "stream",
     "text": [
      "\n",
      "t:  10.65  > Zc: 1.96\n",
      "We reject the Null Hypotesis Ho -> There are differences between them\n"
     ]
    },
    {
     "data": {
      "image/png": "[encoded data removed]",
      "text/plain": [
       "<Figure size 432x288 with 1 Axes>"
      ]
     },
     "metadata": {
      "needs_background": "light"
     },
     "output_type": "display_data"
    }
   ],
   "source": [
    "t,df = metrics_jor.Compare_means(climber_men.grades_max,climber_women.grades_max)"
   ]
  },
  {
   "cell_type": "markdown",
   "id": "dominant-conversion",
   "metadata": {},
   "source": [
    "### MEAN GRADE"
   ]
  },
  {
   "cell_type": "code",
   "execution_count": 7,
   "id": "affiliated-trigger",
   "metadata": {},
   "outputs": [
    {
     "data": {
      "text/html": [
       "<div>\n",
       "<style scoped>\n",
       "    .dataframe tbody tr th:only-of-type {\n",
       "        vertical-align: middle;\n",
       "    }\n",
       "\n",
       "    .dataframe tbody tr th {\n",
       "        vertical-align: top;\n",
       "    }\n",
       "\n",
       "    .dataframe thead th {\n",
       "        text-align: right;\n",
       "    }\n",
       "</style>\n",
       "<table border=\"1\" class=\"dataframe\">\n",
       "  <thead>\n",
       "    <tr style=\"text-align: right;\">\n",
       "      <th></th>\n",
       "      <th>metrics</th>\n",
       "      <th>men</th>\n",
       "      <th>women</th>\n",
       "    </tr>\n",
       "  </thead>\n",
       "  <tbody>\n",
       "    <tr>\n",
       "      <th>0</th>\n",
       "      <td>mean</td>\n",
       "      <td>47.00</td>\n",
       "      <td>44.67</td>\n",
       "    </tr>\n",
       "    <tr>\n",
       "      <th>1</th>\n",
       "      <td>sdev</td>\n",
       "      <td>7.44</td>\n",
       "      <td>7.19</td>\n",
       "    </tr>\n",
       "    <tr>\n",
       "      <th>2</th>\n",
       "      <td>num</td>\n",
       "      <td>7813.00</td>\n",
       "      <td>942.00</td>\n",
       "    </tr>\n",
       "  </tbody>\n",
       "</table>\n",
       "</div>"
      ],
      "text/plain": [
       "  metrics      men   women\n",
       "0    mean    47.00   44.67\n",
       "1    sdev     7.44    7.19\n",
       "2     num  7813.00  942.00"
      ]
     },
     "metadata": {},
     "output_type": "display_data"
    },
    {
     "name": "stdout",
     "output_type": "stream",
     "text": [
      "\n",
      "t:  9.36  > Zc: 1.96\n",
      "We reject the Null Hypotesis Ho -> There are differences between them\n"
     ]
    },
    {
     "data": {
      "image/png": "[encoded data removed]",
      "text/plain": [
       "<Figure size 432x288 with 1 Axes>"
      ]
     },
     "metadata": {
      "needs_background": "light"
     },
     "output_type": "display_data"
    }
   ],
   "source": [
    "t,df = metrics_jor.Compare_means(climber_men.grades_mean,climber_women.grades_mean)"
   ]
  },
  {
   "cell_type": "markdown",
   "id": "proud-scottish",
   "metadata": {},
   "source": [
    "### MEAN GRADE AFTER SOME YEARS"
   ]
  },
  {
   "cell_type": "markdown",
   "id": "pursuant-nowhere",
   "metadata": {},
   "source": [
    "Now I want to see what happens with experienced climbers who have been climbing for some years to see if there is a big difference."
   ]
  },
  {
   "cell_type": "code",
   "execution_count": 8,
   "id": "occupied-moment",
   "metadata": {
    "scrolled": true
   },
   "outputs": [
    {
     "data": {
      "text/html": [
       "<div>\n",
       "<style scoped>\n",
       "    .dataframe tbody tr th:only-of-type {\n",
       "        vertical-align: middle;\n",
       "    }\n",
       "\n",
       "    .dataframe tbody tr th {\n",
       "        vertical-align: top;\n",
       "    }\n",
       "\n",
       "    .dataframe thead th {\n",
       "        text-align: right;\n",
       "    }\n",
       "</style>\n",
       "<table border=\"1\" class=\"dataframe\">\n",
       "  <thead>\n",
       "    <tr style=\"text-align: right;\">\n",
       "      <th></th>\n",
       "      <th>Z</th>\n",
       "      <th>Zc</th>\n",
       "      <th>Accept</th>\n",
       "      <th>years</th>\n",
       "    </tr>\n",
       "  </thead>\n",
       "  <tbody>\n",
       "    <tr>\n",
       "      <th>0</th>\n",
       "      <td>9.36</td>\n",
       "      <td>1.96</td>\n",
       "      <td>False</td>\n",
       "      <td>1</td>\n",
       "    </tr>\n",
       "    <tr>\n",
       "      <th>1</th>\n",
       "      <td>9.36</td>\n",
       "      <td>1.96</td>\n",
       "      <td>False</td>\n",
       "      <td>2</td>\n",
       "    </tr>\n",
       "    <tr>\n",
       "      <th>2</th>\n",
       "      <td>8.29</td>\n",
       "      <td>1.96</td>\n",
       "      <td>False</td>\n",
       "      <td>3</td>\n",
       "    </tr>\n",
       "    <tr>\n",
       "      <th>3</th>\n",
       "      <td>7.67</td>\n",
       "      <td>1.96</td>\n",
       "      <td>False</td>\n",
       "      <td>4</td>\n",
       "    </tr>\n",
       "    <tr>\n",
       "      <th>4</th>\n",
       "      <td>6.90</td>\n",
       "      <td>1.96</td>\n",
       "      <td>False</td>\n",
       "      <td>5</td>\n",
       "    </tr>\n",
       "    <tr>\n",
       "      <th>5</th>\n",
       "      <td>6.05</td>\n",
       "      <td>1.96</td>\n",
       "      <td>False</td>\n",
       "      <td>6</td>\n",
       "    </tr>\n",
       "    <tr>\n",
       "      <th>6</th>\n",
       "      <td>5.64</td>\n",
       "      <td>1.96</td>\n",
       "      <td>False</td>\n",
       "      <td>7</td>\n",
       "    </tr>\n",
       "    <tr>\n",
       "      <th>7</th>\n",
       "      <td>4.93</td>\n",
       "      <td>1.96</td>\n",
       "      <td>False</td>\n",
       "      <td>8</td>\n",
       "    </tr>\n",
       "    <tr>\n",
       "      <th>8</th>\n",
       "      <td>4.19</td>\n",
       "      <td>1.96</td>\n",
       "      <td>False</td>\n",
       "      <td>9</td>\n",
       "    </tr>\n",
       "    <tr>\n",
       "      <th>9</th>\n",
       "      <td>3.17</td>\n",
       "      <td>1.96</td>\n",
       "      <td>False</td>\n",
       "      <td>10</td>\n",
       "    </tr>\n",
       "    <tr>\n",
       "      <th>10</th>\n",
       "      <td>1.60</td>\n",
       "      <td>1.96</td>\n",
       "      <td>True</td>\n",
       "      <td>11</td>\n",
       "    </tr>\n",
       "    <tr>\n",
       "      <th>11</th>\n",
       "      <td>1.78</td>\n",
       "      <td>1.96</td>\n",
       "      <td>True</td>\n",
       "      <td>12</td>\n",
       "    </tr>\n",
       "    <tr>\n",
       "      <th>12</th>\n",
       "      <td>1.58</td>\n",
       "      <td>1.96</td>\n",
       "      <td>True</td>\n",
       "      <td>13</td>\n",
       "    </tr>\n",
       "    <tr>\n",
       "      <th>13</th>\n",
       "      <td>0.72</td>\n",
       "      <td>1.96</td>\n",
       "      <td>True</td>\n",
       "      <td>14</td>\n",
       "    </tr>\n",
       "    <tr>\n",
       "      <th>14</th>\n",
       "      <td>-0.79</td>\n",
       "      <td>1.96</td>\n",
       "      <td>True</td>\n",
       "      <td>15</td>\n",
       "    </tr>\n",
       "    <tr>\n",
       "      <th>15</th>\n",
       "      <td>-1.37</td>\n",
       "      <td>1.96</td>\n",
       "      <td>True</td>\n",
       "      <td>16</td>\n",
       "    </tr>\n",
       "    <tr>\n",
       "      <th>16</th>\n",
       "      <td>-1.37</td>\n",
       "      <td>1.96</td>\n",
       "      <td>True</td>\n",
       "      <td>17</td>\n",
       "    </tr>\n",
       "    <tr>\n",
       "      <th>17</th>\n",
       "      <td>-1.09</td>\n",
       "      <td>1.96</td>\n",
       "      <td>True</td>\n",
       "      <td>18</td>\n",
       "    </tr>\n",
       "    <tr>\n",
       "      <th>18</th>\n",
       "      <td>-0.92</td>\n",
       "      <td>1.96</td>\n",
       "      <td>True</td>\n",
       "      <td>19</td>\n",
       "    </tr>\n",
       "    <tr>\n",
       "      <th>19</th>\n",
       "      <td>0.36</td>\n",
       "      <td>1.96</td>\n",
       "      <td>True</td>\n",
       "      <td>20</td>\n",
       "    </tr>\n",
       "    <tr>\n",
       "      <th>20</th>\n",
       "      <td>0.89</td>\n",
       "      <td>1.96</td>\n",
       "      <td>True</td>\n",
       "      <td>21</td>\n",
       "    </tr>\n",
       "    <tr>\n",
       "      <th>21</th>\n",
       "      <td>0.47</td>\n",
       "      <td>1.96</td>\n",
       "      <td>True</td>\n",
       "      <td>22</td>\n",
       "    </tr>\n",
       "  </tbody>\n",
       "</table>\n",
       "</div>"
      ],
      "text/plain": [
       "       Z    Zc  Accept  years\n",
       "0   9.36  1.96   False      1\n",
       "1   9.36  1.96   False      2\n",
       "2   8.29  1.96   False      3\n",
       "3   7.67  1.96   False      4\n",
       "4   6.90  1.96   False      5\n",
       "5   6.05  1.96   False      6\n",
       "6   5.64  1.96   False      7\n",
       "7   4.93  1.96   False      8\n",
       "8   4.19  1.96   False      9\n",
       "9   3.17  1.96   False     10\n",
       "10  1.60  1.96    True     11\n",
       "11  1.78  1.96    True     12\n",
       "12  1.58  1.96    True     13\n",
       "13  0.72  1.96    True     14\n",
       "14 -0.79  1.96    True     15\n",
       "15 -1.37  1.96    True     16\n",
       "16 -1.37  1.96    True     17\n",
       "17 -1.09  1.96    True     18\n",
       "18 -0.92  1.96    True     19\n",
       "19  0.36  1.96    True     20\n",
       "20  0.89  1.96    True     21\n",
       "21  0.47  1.96    True     22"
      ]
     },
     "execution_count": 8,
     "metadata": {},
     "output_type": "execute_result"
    }
   ],
   "source": [
    "pd.set_option('display.max_rows', None)\n",
    "metrics_jor.Years_comparation(climber_clean)"
   ]
  },
  {
   "cell_type": "markdown",
   "id": "proper-gibraltar",
   "metadata": {},
   "source": [
    "We see that after 11 years the value means are not different"
   ]
  },
  {
   "cell_type": "code",
   "execution_count": 9,
   "id": "bulgarian-manchester",
   "metadata": {},
   "outputs": [],
   "source": [
    "climber_clean2 = climber_clean[climber_clean.years_cl > 11]"
   ]
  },
  {
   "cell_type": "code",
   "execution_count": 10,
   "id": "conventional-gasoline",
   "metadata": {},
   "outputs": [],
   "source": [
    "climber_men = climber_clean2[climber_clean2.sex == 0]\n",
    "climber_women = climber_clean2[climber_clean2.sex == 1]"
   ]
  },
  {
   "cell_type": "code",
   "execution_count": 11,
   "id": "wired-likelihood",
   "metadata": {
    "scrolled": false
   },
   "outputs": [
    {
     "data": {
      "text/html": [
       "<div>\n",
       "<style scoped>\n",
       "    .dataframe tbody tr th:only-of-type {\n",
       "        vertical-align: middle;\n",
       "    }\n",
       "\n",
       "    .dataframe tbody tr th {\n",
       "        vertical-align: top;\n",
       "    }\n",
       "\n",
       "    .dataframe thead th {\n",
       "        text-align: right;\n",
       "    }\n",
       "</style>\n",
       "<table border=\"1\" class=\"dataframe\">\n",
       "  <thead>\n",
       "    <tr style=\"text-align: right;\">\n",
       "      <th></th>\n",
       "      <th>metrics</th>\n",
       "      <th>men</th>\n",
       "      <th>women</th>\n",
       "    </tr>\n",
       "  </thead>\n",
       "  <tbody>\n",
       "    <tr>\n",
       "      <th>0</th>\n",
       "      <td>mean</td>\n",
       "      <td>49.91</td>\n",
       "      <td>49.11</td>\n",
       "    </tr>\n",
       "    <tr>\n",
       "      <th>1</th>\n",
       "      <td>sdev</td>\n",
       "      <td>7.26</td>\n",
       "      <td>7.10</td>\n",
       "    </tr>\n",
       "    <tr>\n",
       "      <th>2</th>\n",
       "      <td>num</td>\n",
       "      <td>2473.00</td>\n",
       "      <td>221.00</td>\n",
       "    </tr>\n",
       "  </tbody>\n",
       "</table>\n",
       "</div>"
      ],
      "text/plain": [
       "  metrics      men   women\n",
       "0    mean    49.91   49.11\n",
       "1    sdev     7.26    7.10\n",
       "2     num  2473.00  221.00"
      ]
     },
     "metadata": {},
     "output_type": "display_data"
    },
    {
     "name": "stdout",
     "output_type": "stream",
     "text": [
      "\n",
      "t:  1.6  < Zc: 1.96\n",
      "We accept the Null Hypotesis Ho -> There are not differences between them\n"
     ]
    },
    {
     "data": {
      "image/png": "[encoded data removed]",
      "text/plain": [
       "<Figure size 432x288 with 1 Axes>"
      ]
     },
     "metadata": {
      "needs_background": "light"
     },
     "output_type": "display_data"
    }
   ],
   "source": [
    "t,df = metrics_jor.Compare_means(climber_men.grades_mean,climber_women.grades_mean)"
   ]
  }
 ],
 "metadata": {
  "kernelspec": {
   "display_name": "Python 3 (ipykernel)",
   "language": "python",
   "name": "python3"
  },
  "language_info": {
   "codemirror_mode": {
    "name": "ipython",
    "version": 3
   },
   "file_extension": ".py",
   "mimetype": "text/x-python",
   "name": "python",
   "nbconvert_exporter": "python",
   "pygments_lexer": "ipython3",
   "version": "3.9.5"
  }
 },
 "nbformat": 4,
 "nbformat_minor": 5
}
